{
 "cells": [
  {
   "cell_type": "markdown",
   "metadata": {
    "pycharm": {
     "metadata": false
    }
   },
   "source": [
    "## Using the if statement in an application\n",
    "### Working with relational operators"
   ]
  },
  {
   "cell_type": "code",
   "execution_count": 1,
   "metadata": {
    "pycharm": {
     "is_executing": false
    }
   },
   "outputs": [
    {
     "name": "stdout",
     "output_type": "stream",
     "text": [
      "Test Me does equal 6!\n",
      "All done!\n"
     ]
    }
   ],
   "source": [
    "test_me = 6\n",
    "if test_me == 6:\n",
    "    print(\"Test Me does equal 6!\")\n",
    "    print(\"All done!\")"
   ]
  },
  {
   "cell_type": "markdown",
   "metadata": {
    "pycharm": {
     "metadata": false
    }
   },
   "source": [
    "## Making multiple comparisons using logical operators"
   ]
  },
  {
   "cell_type": "code",
   "execution_count": 2,
   "metadata": {
    "pycharm": {
     "is_executing": false,
     "metadata": false,
     "name": "#%%\n"
    }
   },
   "outputs": [
    {
     "name": "stdout",
     "output_type": "stream",
     "text": [
      "Type a number between 1 and 10: 1\n",
      "You typed:  1\n"
     ]
    }
   ],
   "source": [
    "value = int(input(\"Type a number between 1 and 10: \"))\n",
    "if (value > 0) and (value <= 10):\n",
    "    print(\"You typed: \", value)"
   ]
  },
  {
   "cell_type": "markdown",
   "metadata": {
    "pycharm": {
     "metadata": false
    }
   },
   "source": [
    "## Using the if...else statement in an application"
   ]
  },
  {
   "cell_type": "code",
   "execution_count": 3,
   "metadata": {
    "pycharm": {
     "is_executing": false,
     "metadata": false,
     "name": "#%%\n"
    }
   },
   "outputs": [
    {
     "name": "stdout",
     "output_type": "stream",
     "text": [
      "Type a number between 1 and 10: 1\n",
      "You typed:  1\n"
     ]
    }
   ],
   "source": [
    "value = int(input(\"Type a number between 1 and 10: \"))\n",
    "if (value > 0) and (value <= 10):\n",
    "    print(\"You typed: \", value)\n",
    "else:\n",
    "    print(\"The value you typed is incorrect!\")"
   ]
  },
  {
   "cell_type": "markdown",
   "metadata": {
    "pycharm": {
     "metadata": false
    }
   },
   "source": [
    "## Using the if...elif statement in an application"
   ]
  },
  {
   "cell_type": "code",
   "execution_count": 4,
   "metadata": {
    "pycharm": {
     "is_executing": false,
     "metadata": false,
     "name": "#%%\n"
    }
   },
   "outputs": [
    {
     "name": "stdout",
     "output_type": "stream",
     "text": [
      "1. Red\n",
      "2. Orange\n",
      "3. Yellow\n",
      "4. Green\n",
      "5. Blue\n",
      "6. Purple\n",
      "Select you favorite color: 1\n",
      "You chose Red!\n"
     ]
    }
   ],
   "source": [
    "print(\"1. Red\")\n",
    "print(\"2. Orange\")\n",
    "print(\"3. Yellow\")\n",
    "print(\"4. Green\")\n",
    "print(\"5. Blue\")\n",
    "print(\"6. Purple\")\n",
    "\n",
    "choice = int(input(\"Select you favorite color: \"))\n",
    "\n",
    "if choice == 1:\n",
    "    print(\"You chose Red!\")\n",
    "elif choice == 2:\n",
    "    print(\"You chose Orange!\")\n",
    "elif choice == 3:\n",
    "    print(\"You chose Yellow!\")\n",
    "elif choice == 4:\n",
    "    print(\"You chose Green!\")\n",
    "elif choice == 5:\n",
    "    print(\"You chose Blue!\")\n",
    "elif choice == 6:\n",
    "    print(\"You chose Purple!\")\n",
    "else:\n",
    "    print(\"You made an invalid choice\")"
   ]
  },
  {
   "cell_type": "markdown",
   "metadata": {
    "pycharm": {
     "metadata": false
    }
   },
   "source": [
    "## Using Nested Decision Statements\n",
    "### Using multiple if or if...else statements"
   ]
  },
  {
   "cell_type": "code",
   "execution_count": 5,
   "metadata": {
    "pycharm": {
     "is_executing": false,
     "metadata": false,
     "name": "#%%\n"
    }
   },
   "outputs": [
    {
     "name": "stdout",
     "output_type": "stream",
     "text": [
      "Type a number between 1 and 10: 1\n",
      "Type a number between 1 and 10: 1\n",
      "Your secret number is:  1\n"
     ]
    }
   ],
   "source": [
    "one = int(input(\"Type a number between 1 and 10: \"))\n",
    "two = int(input(\"Type a number between 1 and 10: \"))\n",
    "\n",
    "if (one >= 1) and (one <= 10):\n",
    "    if (two >= 1) and (two <= 10):\n",
    "        print(\"Your secret number is: \", one * two)\n",
    "    else:\n",
    "        print(\"Incorrect second value!\")\n",
    "else:\n",
    "    print(\"Incorrect first value!\")"
   ]
  },
  {
   "cell_type": "markdown",
   "metadata": {
    "pycharm": {
     "metadata": false
    }
   },
   "source": [
    "## Creating Breakfast Menu"
   ]
  },
  {
   "cell_type": "code",
   "execution_count": 6,
   "metadata": {
    "pycharm": {
     "is_executing": false,
     "metadata": false,
     "name": "#%%\n"
    }
   },
   "outputs": [
    {
     "name": "stdout",
     "output_type": "stream",
     "text": [
      "1. Eggs\n",
      "2. Pancakes\n",
      "3. Waffles\n",
      "4. Oatmeal\n",
      "Choose a breakfast item: 1\n",
      "1. Wheat Toast\n",
      "2. Sour Dough\n",
      "3. Rye Toast\n",
      "4. Pancakes\n",
      "\n",
      "\n",
      "Choose a type of bread: 1\n",
      "You choose eggs with wheat toast.\n"
     ]
    }
   ],
   "source": [
    "print(\"1. Eggs\")\n",
    "print(\"2. Pancakes\")\n",
    "print(\"3. Waffles\")\n",
    "print(\"4. Oatmeal\")\n",
    "\n",
    "main_choice = int(input(\"Choose a breakfast item: \"))\n",
    "\n",
    "if main_choice == 2:\n",
    "    meal = \"Pancakes\"\n",
    "elif main_choice == 3:\n",
    "    meal = \"Waffles\"\n",
    "    \n",
    "if main_choice == 1:\n",
    "    print(\"1. Wheat Toast\")\n",
    "    print(\"2. Sour Dough\")\n",
    "    print(\"3. Rye Toast\")\n",
    "    print(\"4. Pancakes\")\n",
    "    print(\"\\n\")\n",
    "    \n",
    "    bread = int(input(\"Choose a type of bread: \"))\n",
    "    \n",
    "    if bread == 1:\n",
    "        print(\"You choose eggs with wheat toast.\")\n",
    "    elif bread == 2:\n",
    "        print(\"You choose eggs with sour dough.\")\n",
    "    elif bread == 3:\n",
    "        print(\"You choose eggs with rye toast.\")\n",
    "    elif bread == 4:\n",
    "        print(\"You choose eggs with pancakes.\")\n",
    "    else:\n",
    "        print(\"We have eggs, but not that kind of bread.\")\n",
    "elif (main_choice == 2) or (main_choice == 3):\n",
    "    print(\"1. Syrup\")\n",
    "    print(\"2. Strawberries\")\n",
    "    print(\"3. Powdered Sugar\")\n",
    "    \n",
    "    topping = int(input(\"Choose a topping: \"))\n",
    "    \n",
    "    if topping == 1:\n",
    "        print(\"You choose \" + meal + \" with syrup.\")\n",
    "    elif topping == 2:\n",
    "        print(\"You choose \" + meal + \" with strawberries.\")\n",
    "    elif topping == 3:\n",
    "        print(\"You choose \" + meal + \" with powdered sugar.\")\n",
    "    else:\n",
    "        print(\"We have \" + meal + \", but not that topping.\")\n",
    "elif main_choice == 4:\n",
    "    print(\"You choose oatmeal.\")\n",
    "else:\n",
    "    print(\"We don't serve that breakfast item!\")"
   ]
  },
  {
   "cell_type": "code",
   "execution_count": null,
   "metadata": {},
   "outputs": [],
   "source": []
  }
 ],
 "metadata": {
  "kernelspec": {
   "display_name": "PyCharm (begin_python)",
   "language": "python",
   "name": "pycharm-215982cc"
  },
  "language_info": {
   "codemirror_mode": {
    "name": "ipython",
    "version": 3
   },
   "file_extension": ".py",
   "mimetype": "text/x-python",
   "name": "python",
   "nbconvert_exporter": "python",
   "pygments_lexer": "ipython3",
   "version": "3.7.3"
  },
  "stem_cell": {
   "cell_type": "raw",
   "metadata": {
    "pycharm": {
     "metadata": false
    }
   },
   "source": ""
  }
 },
 "nbformat": 4,
 "nbformat_minor": 1
}
