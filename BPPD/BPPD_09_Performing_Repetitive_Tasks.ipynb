{
  "cells": [
    {
      "cell_type": "markdown",
      "metadata": {
        "collapsed": true,
        "pycharm": {
          "name": "#%% md\n"
        }
      },
      "source": "### Processing Data Using *for* Statement\n#### Creating basic *for* loop"
    },
    {
      "cell_type": "code",
      "execution_count": 1,
      "outputs": [
        {
          "name": "stdout",
          "text": [
            "Letter  1  is  H\nLetter  2  is  o\nLetter  3  is  w\nLetter  4  is  d\nLetter  5  is  y\nLetter  6  is  !\n"
          ],
          "output_type": "stream"
        }
      ],
      "source": "letter_num \u003d 1\nfor letter in \u0027Howdy!\u0027:\n    print(\"Letter \", letter_num, \" is \", letter)\n    letter_num +\u003d 1",
      "metadata": {
        "pycharm": {
          "metadata": false,
          "name": "#%%\n",
          "is_executing": false
        }
      }
    },
    {
      "cell_type": "markdown",
      "source": "#### Controlling execution with *break* statement",
      "metadata": {
        "pycharm": {
          "metadata": false
        }
      }
    },
    {
      "cell_type": "code",
      "execution_count": 3,
      "outputs": [
        {
          "name": "stdout",
          "text": [
            "Letter  1  is  a\nLetter  2  is  u\nLetter  3  is  g\nLetter  4  is  u\nLetter  5  is  s\nLetter  6  is  t\nThe sting is too long!\n"
          ],
          "output_type": "stream"
        }
      ],
      "source": "value \u003d input(\"Type less than 6 characters: \")\nletter_num \u003d 1\nfor letter in value:\n    print(\u0027Letter \u0027, letter_num, \" is \", letter)\n    letter_num +\u003d 1\n    if letter_num \u003e 6:\n        print(\"The sting is too long!\")\n        break",
      "metadata": {
        "pycharm": {
          "metadata": false,
          "name": "#%%\n",
          "is_executing": false
        }
      }
    },
    {
      "cell_type": "markdown",
      "source": "#### Controlling execution with *continue* statement",
      "metadata": {
        "pycharm": {
          "metadata": false
        }
      }
    },
    {
      "cell_type": "code",
      "execution_count": 4,
      "outputs": [
        {
          "name": "stdout",
          "text": [
            "Letter  1  is  H\nLetter  2  is  o\nLetter  3  is  d\nLetter  4  is  y\nLetter  5  is  !\n"
          ],
          "output_type": "stream"
        }
      ],
      "source": "letter_num \u003d 1\nfor letter in \"Howdy!\":\n    if letter \u003d\u003d \u0027w\u0027:\n        continue\n        print(\"Encountered w, not processed.\")\n    print(\"Letter \", letter_num, \" is \", letter)\n    letter_num +\u003d 1",
      "metadata": {
        "pycharm": {
          "metadata": false,
          "name": "#%%\n",
          "is_executing": false
        }
      }
    },
    {
      "cell_type": "markdown",
      "source": "#### Controlling execution with *pass* clause",
      "metadata": {
        "pycharm": {
          "metadata": false
        }
      }
    },
    {
      "cell_type": "code",
      "execution_count": 6,
      "outputs": [
        {
          "name": "stdout",
          "text": [
            "Letter  1  is  H\nLetter  2  is  o\nEncountered w, not processed.\nLetter  3  is  w\nLetter  4  is  d\nLetter  5  is  y\nLetter  6  is  !\n"
          ],
          "output_type": "stream"
        }
      ],
      "source": "letter_num \u003d 1\nfor letter in \"Howdy!\":\n    if letter \u003d\u003d \u0027w\u0027:\n        pass\n        print(\"Encountered w, not processed.\")\n    print(\"Letter \", letter_num, \" is \", letter)\n    letter_num +\u003d 1",
      "metadata": {
        "pycharm": {
          "metadata": false,
          "name": "#%%\n",
          "is_executing": false
        }
      }
    },
    {
      "cell_type": "code",
      "execution_count": 7,
      "outputs": [
        {
          "name": "stdout",
          "text": [
            "Letter  1  is  a\nLetter  2  is  u\nLetter  3  is  g\nLetter  4  is  u\nLetter  5  is  s\nLetter  6  is  t\nLetter  7  is  o\nThe string is blank.\n"
          ],
          "output_type": "stream"
        }
      ],
      "source": "value \u003d input(\"Type less than 6 characters: \")\nletter_num \u003d 1\nfor letter in value:\n    print(\"Letter \", letter_num, \" is \", letter)\n    letter_num +\u003d 1\nelse:\n    print(\"The string is blank.\")",
      "metadata": {
        "pycharm": {
          "metadata": false,
          "name": "#%%\n",
          "is_executing": false
        }
      }
    },
    {
      "cell_type": "markdown",
      "source": "### Processing data using the *while*\n#### Using the *while* statement in an application",
      "metadata": {
        "pycharm": {
          "metadata": false,
          "name": "#%% md\n"
        }
      }
    },
    {
      "cell_type": "code",
      "execution_count": 8,
      "outputs": [
        {
          "name": "stdout",
          "text": [
            "0\n1\n2\n3\n4\n"
          ],
          "output_type": "stream"
        }
      ],
      "source": "count \u003d 0\nwhile count \u003c 5:\n    print(count)\n    count +\u003d 1",
      "metadata": {
        "pycharm": {
          "metadata": false,
          "name": "#%%\n",
          "is_executing": false
        }
      }
    },
    {
      "cell_type": "markdown",
      "source": "### Nesting Loop Statements",
      "metadata": {
        "pycharm": {
          "metadata": false
        }
      }
    },
    {
      "cell_type": "code",
      "execution_count": 9,
      "outputs": [
        {
          "name": "stdout",
          "text": [
            "        1    2    3    4    5    6    7    8    9   10 \n   1    1    2    3    4    5    6    7    8    9   10 \n   2    2    4    6    8   10   12   14   16   18   20 \n   3    3    6    9   12   15   18   21   24   27   30 \n   4    4    8   12   16   20   24   28   32   36   40 \n   5    5   10   15   20   25   30   35   40   45   50 \n   6    6   12   18   24   30   36   42   48   54   60 \n   7    7   14   21   28   35   42   49   56   63   70 \n   8    8   16   24   32   40   48   56   64   72   80 \n   9    9   18   27   36   45   54   63   72   81   90 \n  10   10   20   30   40   50   60   70   80   90  100 \n"
          ],
          "output_type": "stream"
        }
      ],
      "source": "x \u003d 1\ny \u003d 1\n\nprint(\u0027{:\u003e4}\u0027.format(\u0027 \u0027), end \u003d \u0027 \u0027)\nfor x in range(1, 11):\n    print(\u0027{:\u003e4}\u0027.format(x), end \u003d \u0027 \u0027)\nprint()\nfor x in range(1, 11):\n    print(\u0027{:\u003e4}\u0027.format(x), end \u003d \u0027 \u0027)\n    while y \u003c\u003d 10:\n        print(\u0027{:\u003e4}\u0027.format(x * y), end \u003d \u0027 \u0027)\n        y +\u003d 1\n    print()\n    y \u003d 1\n",
      "metadata": {
        "pycharm": {
          "metadata": false,
          "name": "#%%\n",
          "is_executing": false
        }
      }
    }
  ],
  "metadata": {
    "language_info": {
      "codemirror_mode": {
        "name": "ipython",
        "version": 2
      },
      "file_extension": ".py",
      "mimetype": "text/x-python",
      "name": "python",
      "nbconvert_exporter": "python",
      "pygments_lexer": "ipython2",
      "version": "2.7.6"
    },
    "kernelspec": {
      "name": "pycharm-215982cc",
      "language": "python",
      "display_name": "PyCharm (begin-python)"
    }
  },
  "nbformat": 4,
  "nbformat_minor": 0
}