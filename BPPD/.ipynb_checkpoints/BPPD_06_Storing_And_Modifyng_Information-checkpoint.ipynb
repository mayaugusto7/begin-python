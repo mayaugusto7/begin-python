{
 "cells": [
  {
   "cell_type": "markdown",
   "metadata": {
    "pycharm": {
     "metadata": false,
     "name": "#%% md\n"
    }
   },
   "source": [
    "## Putting information into variables"
   ]
  },
  {
   "cell_type": "code",
   "execution_count": 1,
   "metadata": {
    "pycharm": {
     "is_executing": false
    }
   },
   "outputs": [
    {
     "name": "stdout",
     "output_type": "stream",
     "text": [
      "5\n"
     ]
    }
   ],
   "source": [
    "my_var = 5\n",
    "print(my_var)"
   ]
  },
  {
   "cell_type": "markdown",
   "metadata": {
    "pycharm": {
     "metadata": false
    }
   },
   "source": [
    "## Understanding the numeric types\n",
    "### Integers"
   ]
  },
  {
   "cell_type": "code",
   "execution_count": 2,
   "metadata": {
    "pycharm": {
     "is_executing": false,
     "metadata": false,
     "name": "#%%\n"
    }
   },
   "outputs": [
    {
     "name": "stdout",
     "output_type": "stream",
     "text": [
      "100 Binary:  4\n",
      "100 Octal:  64\n",
      "100 Decimal:  100\n",
      "100 Hexadecimal:  256\n",
      "0b100000000\n",
      "0o400\n",
      "0x100\n"
     ]
    }
   ],
   "source": [
    "test = 0b100\n",
    "print(\"100 Binary: \", test)\n",
    "\n",
    "test = 0o100\n",
    "print(\"100 Octal: \", test)\n",
    "\n",
    "test = 100\n",
    "print(\"100 Decimal: \", test)\n",
    "\n",
    "test = 0x100\n",
    "print(\"100 Hexadecimal: \", test)\n",
    "\n",
    "print(bin(test))\n",
    "print(oct(test))\n",
    "print(hex(test))"
   ]
  },
  {
   "cell_type": "markdown",
   "metadata": {
    "pycharm": {
     "metadata": false
    }
   },
   "source": [
    "## Floating-point values"
   ]
  },
  {
   "cell_type": "code",
   "execution_count": 3,
   "metadata": {
    "pycharm": {
     "is_executing": false,
     "metadata": false,
     "name": "#%%\n"
    }
   },
   "outputs": [
    {
     "name": "stdout",
     "output_type": "stream",
     "text": [
      "Direct Assigment:  255.0\n",
      "Scientific Notation:  255.0\n",
      "Negative Exponent:  0.0255\n"
     ]
    }
   ],
   "source": [
    "test = 255.0\n",
    "print(\"Direct Assigment: \", test)\n",
    "test = 2.55e2\n",
    "print(\"Scientific Notation: \", test)\n",
    "test = 2.55e-2\n",
    "print(\"Negative Exponent: \", test)"
   ]
  },
  {
   "cell_type": "markdown",
   "metadata": {
    "pycharm": {
     "metadata": false,
     "name": "#%% md\n"
    }
   },
   "source": [
    "## Understanding strings"
   ]
  },
  {
   "cell_type": "code",
   "execution_count": 4,
   "metadata": {
    "pycharm": {
     "is_executing": false,
     "metadata": false,
     "name": "#%%\n"
    }
   },
   "outputs": [
    {
     "name": "stdout",
     "output_type": "stream",
     "text": [
      "65\n",
      "123\n",
      "<class 'int'>\n"
     ]
    }
   ],
   "source": [
    "print(ord(\"A\"))\n",
    "my_int = int(\"123\")\n",
    "print(my_int)\n",
    "print(type(my_int))"
   ]
  },
  {
   "cell_type": "code",
   "execution_count": 5,
   "metadata": {
    "pycharm": {
     "is_executing": false,
     "metadata": false,
     "name": "#%%\n"
    }
   },
   "outputs": [
    {
     "name": "stdout",
     "output_type": "stream",
     "text": [
      "1234.56\n",
      "<class 'str'>\n"
     ]
    }
   ],
   "source": [
    "my_str = str(1234.56)\n",
    "print(my_str)\n",
    "print(type(my_str))"
   ]
  },
  {
   "cell_type": "markdown",
   "metadata": {
    "pycharm": {
     "metadata": false
    }
   },
   "source": [
    "## Working with Dates and Times"
   ]
  },
  {
   "cell_type": "code",
   "execution_count": 6,
   "metadata": {
    "pycharm": {
     "is_executing": false,
     "metadata": false,
     "name": "#%%\n"
    }
   },
   "outputs": [
    {
     "name": "stdout",
     "output_type": "stream",
     "text": [
      "2019-04-27 21:38:59.576459\n"
     ]
    }
   ],
   "source": [
    "import datetime\n",
    "print(datetime.datetime.now())"
   ]
  },
  {
   "cell_type": "code",
   "execution_count": 7,
   "metadata": {
    "pycharm": {
     "is_executing": false,
     "metadata": false,
     "name": "#%%\n"
    }
   },
   "outputs": [
    {
     "name": "stdout",
     "output_type": "stream",
     "text": [
      "2019-04-27\n"
     ]
    }
   ],
   "source": [
    "print(str(datetime.datetime.now().date()))\n"
   ]
  }
 ],
 "metadata": {
  "kernelspec": {
   "display_name": "PyCharm (begin_python)",
   "language": "python",
   "name": "pycharm-215982cc"
  },
  "language_info": {
   "codemirror_mode": {
    "name": "ipython",
    "version": 3
   },
   "file_extension": ".py",
   "mimetype": "text/x-python",
   "name": "python",
   "nbconvert_exporter": "python",
   "pygments_lexer": "ipython3",
   "version": "3.7.3"
  },
  "stem_cell": {
   "cell_type": "raw",
   "metadata": {
    "pycharm": {
     "metadata": false
    }
   },
   "source": ""
  }
 },
 "nbformat": 4,
 "nbformat_minor": 1
}
