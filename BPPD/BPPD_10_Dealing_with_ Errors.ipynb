{
  "cells": [
    {
      "cell_type": "markdown",
      "metadata": {
        "collapsed": true,
        "pycharm": {
          "name": "#%% md\n"
        }
      },
      "source": [
        "### Catching Exceptions\n",
        "#### Basic exception handling\n",
        "##### Handling a single exception"
      ]
    },
    {
      "cell_type": "code",
      "execution_count": null,
      "metadata": {
        "pycharm": {
          "is_executing": false,
          "metadata": false,
          "name": "#%%\n"
        }
      },
      "outputs": [],
      "source": [
        "try:\n",
        "    value \u003d int(input(\"Type a number between 1 and 10: \"))\n",
        "except ValueError:\n",
        "    print(\"You must type a number between 1 and 10!\")\n",
        "else:\n",
        "    if (value \u003e 0) and (value \u003c\u003d 10):\n",
        "        print(\"You typed: \", value)\n",
        "    else:\n",
        "        print(\"The value you typed is incorrect!\")"
      ]
    },
    {
      "cell_type": "markdown",
      "metadata": {
        "pycharm": {
          "metadata": false
        }
      },
      "source": [
        "#### Using the *except* clause without an exception"
      ]
    },
    {
      "cell_type": "code",
      "execution_count": null,
      "metadata": {
        "pycharm": {
          "is_executing": false,
          "metadata": false,
          "name": "#%%\n"
        }
      },
      "outputs": [],
      "source": [
        "try:\n",
        "    value \u003d int(input(\"Type a number between 1 and 10: \"))\n",
        "except ValueError:\n",
        "    print(\"You must type a number between 1 and 10!\")\n",
        "except:\n",
        "    print(\"This is the generic error!\")\n",
        "else:\n",
        "    if (value \u003e 0) and (value \u003c\u003d 10):\n",
        "        print(\"You typed: \", value)\n",
        "    else:\n",
        "        print(\"The value you typed is incorrect!\")"
      ]
    },
    {
      "cell_type": "markdown",
      "metadata": {
        "pycharm": {
          "metadata": false
        }
      },
      "source": [
        "#### Working with exception arguments"
      ]
    },
    {
      "cell_type": "code",
      "execution_count": null,
      "metadata": {
        "pycharm": {
          "is_executing": false,
          "metadata": false,
          "name": "#%%\n"
        }
      },
      "outputs": [],
      "source": [
        "import sys\n",
        "\n",
        "try:\n",
        "    file \u003d open(\u0027myfile.txt\u0027)\n",
        "except IOError as e:\n",
        "    print(\"Error opening file!\\r\\n\" +\n",
        "          \"Error Number: {0}\\r\\n\".format(e.errno) +\n",
        "          \"Error Text: {0}\".format(e.strerror))\n",
        "else:\n",
        "    print(\"File opened as expected.\")\n",
        "    file.close() "
      ]
    },
    {
      "cell_type": "code",
      "execution_count": null,
      "metadata": {
        "pycharm": {
          "is_executing": false,
          "metadata": false,
          "name": "#%%\n"
        }
      },
      "outputs": [],
      "source": [
        "try:\n",
        "    value \u003d int(input(\"Type a number between 1 and 10: \"))\n",
        "except ValueError:\n",
        "    print(\"You must type a number between 1 and 10!\")\n",
        "except KeyboardInterrupt:\n",
        "    print(\"You pressed ctrl + c!\")\n",
        "else:\n",
        "    if (value \u003e 0) and (value \u003c\u003d 10):\n",
        "        print(\"You typed: \", value)\n",
        "    else:\n",
        "        print(\"The value you typed is incorrect!\")     "
      ]
    },
    {
      "cell_type": "code",
      "execution_count": null,
      "metadata": {
        "pycharm": {
          "is_executing": false,
          "metadata": false,
          "name": "#%%\n"
        }
      },
      "outputs": [],
      "source": [
        "try:\n",
        "    value1 \u003d int(input(\"Type the first number: \"))\n",
        "    value2 \u003d int(input(\"Type the second number: \"))\n",
        "    output \u003d value1 / value2\n",
        "except ValueError:\n",
        "    print(\"You must type a whole number!\")\n",
        "except KeyboardInterrupt:\n",
        "    print(\"You pressed ctrl + c!\")\n",
        "except ArithmeticError:\n",
        "    print(\"An undefined math error occurred.\")\n",
        "except ZeroDivisionError:\n",
        "    print(\"Attempted to divide by zero!\")\n",
        "else:\n",
        "    print(output) "
      ]
    },
    {
      "cell_type": "markdown",
      "metadata": {
        "pycharm": {
          "metadata": false
        }
      },
      "source": [
        "#### Nested exception handling"
      ]
    },
    {
      "cell_type": "code",
      "execution_count": 7,
      "metadata": {
        "pycharm": {
          "metadata": false,
          "name": "#%%\n",
          "is_executing": false
        }
      },
      "outputs": [
        {
          "name": "stdout",
          "text": [
            "You musty type a whole number!\n",
            "You musty type a whole number!\n",
            "You musty type a whole number!\n",
            "You musty type a whole number!\n",
            "You musty type a whole number!\n",
            "You musty type a whole number!\n",
            "You musty type a whole number!\n",
            "You musty type a whole number!\n",
            "You musty type a whole number!\n",
            "You musty type a whole number!\n"
          ],
          "output_type": "stream"
        }
      ],
      "source": "try_again \u003d True\nwhile try_again:\n    try:\n        value \u003d int(input(\"Type a whole number. \"))\n    except ValueError:\n        print(\"You musty type a whole number!\")\n        \n        try:\n            do_over \u003d input(\"Try again (y/n)? \")\n        except:\n            print(\"Ok, see you next time!\")\n            try_again \u003d False\n        else:\n            if str.upper(do_over) \u003d\u003d \u0027N\u0027:\n                try_again \u003d False\n    except KeyboardInterrupt:\n        print(\"You pressed ctrl + c!\")\n        print(\"See you next time!\")\n        try_again \u003d False\n    else:\n        print(value)\n        try_again \u003d False"
    },
    {
      "cell_type": "markdown",
      "source": "### Raising Exceptions\n#### Raising exceptions during exceptional conditions",
      "metadata": {
        "pycharm": {
          "metadata": false
        }
      }
    },
    {
      "cell_type": "code",
      "execution_count": 8,
      "outputs": [
        {
          "name": "stdout",
          "text": [
            "ValueError Exception\n"
          ],
          "output_type": "stream"
        }
      ],
      "source": "try:\n    raise ValueError\nexcept ValueError:\n    print(\"ValueError Exception\")",
      "metadata": {
        "pycharm": {
          "metadata": false,
          "name": "#%%\n",
          "is_executing": false
        }
      }
    },
    {
      "cell_type": "markdown",
      "source": "#### Passing error information to the caller",
      "metadata": {
        "pycharm": {
          "metadata": false
        }
      }
    },
    {
      "cell_type": "code",
      "execution_count": 9,
      "outputs": [
        {
          "name": "stdout",
          "text": [
            "ValueError Exception! Value must be within 1 and 10\n"
          ],
          "output_type": "stream"
        }
      ],
      "source": "try: \n    ex \u003d ValueError()\n    ex.strerror \u003d \"Value must be within 1 and 10\"\n    raise  ex\nexcept ValueError as e:\n    print(\"ValueError Exception!\", e.strerror)",
      "metadata": {
        "pycharm": {
          "metadata": false,
          "name": "#%%\n",
          "is_executing": false
        }
      }
    },
    {
      "cell_type": "markdown",
      "source": "#### Creating and Using Custom Exceptions",
      "metadata": {
        "pycharm": {
          "metadata": false
        }
      }
    },
    {
      "cell_type": "code",
      "execution_count": 11,
      "outputs": [
        {
          "name": "stdout",
          "text": [
            "CustomValueError Exception! Value must be within 1 and 10.\n"
          ],
          "output_type": "stream"
        }
      ],
      "source": "class CustomValueError(ValueError):\n    def __init__(self, arg):\n        self.strerror \u003d arg\n        self.args \u003d {arg}\n        \ntry:\n    raise CustomValueError(\"Value must be within 1 and 10.\")\nexcept CustomValueError as e:\n    print(\"CustomValueError Exception!\", e.strerror)",
      "metadata": {
        "pycharm": {
          "metadata": false,
          "name": "#%%\n",
          "is_executing": false
        }
      }
    },
    {
      "cell_type": "markdown",
      "source": "#### Using the *finally* Clause",
      "metadata": {
        "pycharm": {
          "metadata": false
        }
      }
    },
    {
      "cell_type": "code",
      "execution_count": 12,
      "outputs": [
        {
          "name": "stdout",
          "text": [
            "ValueError Exception.\nTaking care of last minute details\n"
          ],
          "output_type": "stream"
        },
        {
          "traceback": [
            "An exception has occurred, use %tb to see the full traceback.\n",
            "\u001b[1;31mSystemExit\u001b[0m\n"
          ],
          "ename": "SystemExit",
          "evalue": "",
          "output_type": "error"
        },
        {
          "name": "stderr",
          "text": [
            "C:\\Users\\Maycon\\AppData\\Local\\Programs\\Python\\Python37\\lib\\site-packages\\IPython\\core\\interactiveshell.py:3304: UserWarning: To exit: use \u0027exit\u0027, \u0027quit\u0027, or Ctrl-D.\n  warn(\"To exit: use \u0027exit\u0027, \u0027quit\u0027, or Ctrl-D.\", stacklevel\u003d1)\n"
          ],
          "output_type": "stream"
        }
      ],
      "source": "import sys\ntry:\n    raise ValueError\n    print(\"Raising an exception.\")\nexcept ValueError:\n    print(\"ValueError Exception.\")\n    sys.exit()\nfinally:\n    print(\"Taking care of last minute details\")\nprint(\"This code will never execute.\")",
      "metadata": {
        "pycharm": {
          "metadata": false,
          "name": "#%%\n",
          "is_executing": false
        }
      }
    }
  ],
  "metadata": {
    "kernelspec": {
      "display_name": "PyCharm (begin_python)",
      "language": "python",
      "name": "pycharm-215982cc"
    },
    "language_info": {
      "codemirror_mode": {
        "name": "ipython",
        "version": 3
      },
      "file_extension": ".py",
      "mimetype": "text/x-python",
      "name": "python",
      "nbconvert_exporter": "python",
      "pygments_lexer": "ipython3",
      "version": "3.7.3"
    }
  },
  "nbformat": 4,
  "nbformat_minor": 1
}