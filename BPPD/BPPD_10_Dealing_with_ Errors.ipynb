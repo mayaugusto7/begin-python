{
 "cells": [
  {
   "cell_type": "markdown",
   "metadata": {
    "collapsed": true,
    "pycharm": {
     "name": "#%% md\n"
    }
   },
   "source": [
    "### Catching Exceptions\n",
    "#### Basic exception handling\n",
    "##### Handling a single exception"
   ]
  },
  {
   "cell_type": "code",
   "execution_count": null,
   "metadata": {
    "pycharm": {
     "is_executing": false,
     "metadata": false,
     "name": "#%%\n"
    }
   },
   "outputs": [],
   "source": [
    "try:\n",
    "    value = int(input(\"Type a number between 1 and 10: \"))\n",
    "except ValueError:\n",
    "    print(\"You must type a number between 1 and 10!\")\n",
    "else:\n",
    "    if (value > 0) and (value <= 10):\n",
    "        print(\"You typed: \", value)\n",
    "    else:\n",
    "        print(\"The value you typed is incorrect!\")"
   ]
  },
  {
   "cell_type": "markdown",
   "metadata": {
    "pycharm": {
     "metadata": false
    }
   },
   "source": [
    "#### Using the *except* clause without an exception"
   ]
  },
  {
   "cell_type": "code",
   "execution_count": null,
   "metadata": {
    "pycharm": {
     "is_executing": false,
     "metadata": false,
     "name": "#%%\n"
    }
   },
   "outputs": [],
   "source": [
    "try:\n",
    "    value = int(input(\"Type a number between 1 and 10: \"))\n",
    "except ValueError:\n",
    "    print(\"You must type a number between 1 and 10!\")\n",
    "except:\n",
    "    print(\"This is the generic error!\")\n",
    "else:\n",
    "    if (value > 0) and (value <= 10):\n",
    "        print(\"You typed: \", value)\n",
    "    else:\n",
    "        print(\"The value you typed is incorrect!\")"
   ]
  },
  {
   "cell_type": "markdown",
   "metadata": {
    "pycharm": {
     "metadata": false
    }
   },
   "source": [
    "#### Working with exception arguments"
   ]
  },
  {
   "cell_type": "code",
   "execution_count": null,
   "metadata": {
    "pycharm": {
     "is_executing": false,
     "metadata": false,
     "name": "#%%\n"
    }
   },
   "outputs": [],
   "source": [
    "import sys\n",
    "\n",
    "try:\n",
    "    file = open('myfile.txt')\n",
    "except IOError as e:\n",
    "    print(\"Error opening file!\\r\\n\" +\n",
    "          \"Error Number: {0}\\r\\n\".format(e.errno) +\n",
    "          \"Error Text: {0}\".format(e.strerror))\n",
    "else:\n",
    "    print(\"File opened as expected.\")\n",
    "    file.close() "
   ]
  },
  {
   "cell_type": "code",
   "execution_count": null,
   "metadata": {
    "pycharm": {
     "is_executing": false,
     "metadata": false,
     "name": "#%%\n"
    }
   },
   "outputs": [],
   "source": [
    "try:\n",
    "    value = int(input(\"Type a number between 1 and 10: \"))\n",
    "except ValueError:\n",
    "    print(\"You must type a number between 1 and 10!\")\n",
    "except KeyboardInterrupt:\n",
    "    print(\"You pressed ctrl + c!\")\n",
    "else:\n",
    "    if (value > 0) and (value <= 10):\n",
    "        print(\"You typed: \", value)\n",
    "    else:\n",
    "        print(\"The value you typed is incorrect!\")     "
   ]
  },
  {
   "cell_type": "code",
   "execution_count": null,
   "metadata": {
    "pycharm": {
     "is_executing": false,
     "metadata": false,
     "name": "#%%\n"
    }
   },
   "outputs": [],
   "source": [
    "try:\n",
    "    value1 = int(input(\"Type the first number: \"))\n",
    "    value2 = int(input(\"Type the second number: \"))\n",
    "    output = value1 / value2\n",
    "except ValueError:\n",
    "    print(\"You must type a whole number!\")\n",
    "except KeyboardInterrupt:\n",
    "    print(\"You pressed ctrl + c!\")\n",
    "except ArithmeticError:\n",
    "    print(\"An undefined math error occurred.\")\n",
    "except ZeroDivisionError:\n",
    "    print(\"Attempted to divide by zero!\")\n",
    "else:\n",
    "    print(output) "
   ]
  },
  {
   "cell_type": "markdown",
   "metadata": {
    "pycharm": {
     "metadata": false
    }
   },
   "source": [
    "#### Nested exception handling"
   ]
  },
  {
   "cell_type": "code",
   "execution_count": null,
   "metadata": {
    "pycharm": {
     "metadata": false,
     "name": "#%%\n"
    }
   },
   "outputs": [],
   "source": [
    "try_again = True\n",
    "while try_again:\n",
    "    try:\n",
    "        value = int(input(\"Type a whole number. \"))\n",
    "    except ValueError:\n",
    "        print(\"You musty type a whole number!\")\n",
    "        \n",
    "        try:\n",
    "            do_over = input(\"Try again (y/n)? \")\n",
    "        except:\n",
    "            print(\"Ok, see you next time!\")\n",
    "            try_again = False\n",
    "        else:\n",
    "            if str.upper(do_over) == 'N':\n",
    "                try_again = False\n",
    "    except KeyboardInterrupt:\n",
    "        print(\"You pressed ctrl + c!\")\n",
    "        print(\"See you next time!\")\n",
    "        try_again = False\n",
    "    else:\n",
    "        print(value)\n",
    "        try_again = False\n"
   ]
  }
 ],
 "metadata": {
  "kernelspec": {
   "display_name": "PyCharm (begin_python)",
   "language": "python",
   "name": "pycharm-215982cc"
  },
  "language_info": {
   "codemirror_mode": {
    "name": "ipython",
    "version": 3
   },
   "file_extension": ".py",
   "mimetype": "text/x-python",
   "name": "python",
   "nbconvert_exporter": "python",
   "pygments_lexer": "ipython3",
   "version": "3.7.3"
  }
 },
 "nbformat": 4,
 "nbformat_minor": 1
}
